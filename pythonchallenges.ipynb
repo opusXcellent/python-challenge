{
 "cells": [
  {
   "cell_type": "code",
   "execution_count": null,
   "metadata": {},
   "outputs": [],
   "source": [
    "#MyFruitBaskey.py\n",
    "\n",
    "fruits = [\"kiwi\", \"apple\", \"banana\"]\n",
    "print(fruits)\n",
    "\n",
    "fruits.append(\"orange\")\n",
    "print(fruits)\n",
    "\n",
    "fruits.remove(\"kiwi\")\n",
    "print(fruits)\n",
    "\n",
    "for x in fruits:\n",
    "    print(\"I have a(n) \" + x + \" in my basket.\")\n"
   ]
  },
  {
   "cell_type": "code",
   "execution_count": 41,
   "metadata": {},
   "outputs": [
    {
     "name": "stdout",
     "output_type": "stream",
     "text": [
      "{'Fireball': 'Creates a ball of fire.', 'Heal': 'Restores health.', 'Invisibility': 'Makes you invisible.'}\n",
      "{'Fireball': 'Creates a ball of fire.', 'Heal': 'Restores health.', 'Invisibility': 'Makes you invisible.', 'Teleport': 'Transports you to another location instantly.'}\n",
      "{'Fireball': 'Creates a ball of fire.', 'Heal': 'Restores health.', 'Teleport': 'Transports you to another location instantly.'}\n",
      "Spell: Fireball -> Effect: Creates a ball of fire.\n",
      "Spell: Heal -> Effect: Restores health.\n",
      "Spell: Teleport -> Effect: Transports you to another location instantly.\n"
     ]
    }
   ],
   "source": [
    "#spellbook.py\n",
    "\n",
    "spellbook = {\n",
    "    \"Fireball\": \"Creates a ball of fire.\",\n",
    "    \"Heal\": \"Restores health.\",\n",
    "    \"Invisibility\": \"Makes you invisible.\"\n",
    "}\n",
    "print(spellbook)\n",
    "\n",
    "spellbook[\"Teleport\"] = \"Transports you to another location instantly.\"\n",
    "print(spellbook)\n",
    "\n",
    "spellbook.pop(\"Invisibility\")\n",
    "print(spellbook)\n",
    "\n",
    "for key, value in spellbook.items():\n",
    "    print(f\"Spell: {key} -> Effect: {value}\")"
   ]
  },
  {
   "cell_type": "code",
   "execution_count": null,
   "metadata": {},
   "outputs": [],
   "source": [
    "#phonebook.py\n",
    "\n",
    "phonebook = {'Bob': '973-555-1212'}\n",
    "\n",
    "while True:\n",
    "    print(\"\"\"\n",
    "Welcome to the Phonebook App!\n",
    "1. Add contact\n",
    "2. Delete contact\n",
    "3. View contacts\n",
    "4. Quit\n",
    "\"\"\")\n",
    "    try:\n",
    "        response = int(input(\"Enter your choice: \"))\n",
    "    except ValueError:\n",
    "        print(\"Please enter a valid number.\\n\")\n",
    "        continue\n",
    "    \n",
    "    if response == 1:\n",
    "        print(\"Add Contact\")\n",
    "        name = input(\"Enter name: \")\n",
    "        phone = input(\"Enter phone number: \")\n",
    "        phonebook[name] = phone\n",
    "        print(f\"Contact '{name}' added!\\n\")\n",
    "\n",
    "    elif response == 2:\n",
    "        print(\"Delete Contact\")\n",
    "        name = input(\"Enter name to Delete: \")\n",
    "        if name in phonebook:\n",
    "            phonebook.pop(name)\n",
    "            print(f\"Contact '{name}' deleted!\\n\")\n",
    "        else:\n",
    "            print(\"Contact is not in Phonebook.\\n\")\n",
    "\n",
    "    elif response == 3:\n",
    "        if phonebook:\n",
    "            print(\"Contacts:\")\n",
    "            for key, value in phonebook.items():\n",
    "                print(f\"Name: {key}, Phone: {value}\")\n",
    "            print()\n",
    "        else:\n",
    "            print(\"Phonebook is empty.\\n\")\n",
    "\n",
    "    elif response == 4:\n",
    "        print(\"Quitting Program. Goodbye!\")\n",
    "        break\n",
    "\n",
    "    else:\n",
    "        print(\"Invalid input, please try again.\")\n",
    "\n",
    "\n",
    "\n",
    "\n",
    "\n",
    "\n",
    "\n",
    "\n",
    "\n"
   ]
  }
 ],
 "metadata": {
  "kernelspec": {
   "display_name": "Python 3",
   "language": "python",
   "name": "python3"
  },
  "language_info": {
   "codemirror_mode": {
    "name": "ipython",
    "version": 3
   },
   "file_extension": ".py",
   "mimetype": "text/x-python",
   "name": "python",
   "nbconvert_exporter": "python",
   "pygments_lexer": "ipython3",
   "version": "3.13.2"
  }
 },
 "nbformat": 4,
 "nbformat_minor": 2
}
